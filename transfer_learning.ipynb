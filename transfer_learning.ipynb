{
 "cells": [
  {
   "cell_type": "code",
   "execution_count": 1,
   "id": "connected-vancouver",
   "metadata": {},
   "outputs": [],
   "source": [
    "import numpy as np\n",
    "import cv2\n",
    "\n",
    "import PIL.Image as Image\n",
    "import os\n",
    "\n",
    "import tensorflow.compat.v2 as tf\n",
    "import tensorflow_hub as hub\n",
    "\n",
    "from tensorflow import keras\n",
    "from tensorflow.keras import layers\n",
    "from tensorflow.keras.models import Sequential\n",
    "from tensorflow.keras.preprocessing.image import ImageDataGenerator\n",
    "from tensorflow.keras.optimizers import Adam\n",
    "\n",
    "import pandas as pd\n",
    "\n",
    "import numpy as np\n",
    "from sklearn.metrics import confusion_matrix\n",
    "import itertools\n",
    "\n",
    "import pathlib\n",
    "import matplotlib.pyplot as plt\n",
    "\n",
    "import pandas as pd"
   ]
  },
  {
   "cell_type": "code",
   "execution_count": 3,
   "id": "union-organizer",
   "metadata": {
    "jupyter": {
     "source_hidden": true
    }
   },
   "outputs": [
    {
     "data": {
      "text/plain": [
       "array(['tench', 'goldfish', 'great white shark', 'tiger shark',\n",
       "       'hammerhead'], dtype=object)"
      ]
     },
     "execution_count": 3,
     "metadata": {},
     "output_type": "execute_result"
    }
   ],
   "source": [
    "image_shape = (224, 224)\n",
    "\n",
    "classifier = tf.keras.Sequential([\n",
    "    hub.KerasLayer('https://tfhub.dev/google/tf2-preview/mobilenet_v2/classification/4', input_shape = image_shape+(3,))\n",
    "])\n",
    "\n",
    "labels = pd.read_csv('https://storage.googleapis.com/download.tensorflow.org/data/ImageNetLabels.txt')\n",
    "labels = np.array(labels['background'])\n",
    "labels[:5]"
   ]
  },
  {
   "cell_type": "code",
   "execution_count": 11,
   "id": "controlled-cowboy",
   "metadata": {
    "jupyter": {
     "source_hidden": true
    }
   },
   "outputs": [
    {
     "name": "stdout",
     "output_type": "stream",
     "text": [
      "INFO:tensorflow:Saver not created because there are no variables in the graph to restore\n"
     ]
    },
    {
     "name": "stderr",
     "output_type": "stream",
     "text": [
      "INFO:tensorflow:Saver not created because there are no variables in the graph to restore\n"
     ]
    },
    {
     "data": {
      "text/html": [
       "<div>\n",
       "<style scoped>\n",
       "    .dataframe tbody tr th:only-of-type {\n",
       "        vertical-align: middle;\n",
       "    }\n",
       "\n",
       "    .dataframe tbody tr th {\n",
       "        vertical-align: top;\n",
       "    }\n",
       "\n",
       "    .dataframe thead th {\n",
       "        text-align: right;\n",
       "    }\n",
       "</style>\n",
       "<table border=\"1\" class=\"dataframe\">\n",
       "  <thead>\n",
       "    <tr style=\"text-align: right;\">\n",
       "      <th></th>\n",
       "      <th>id</th>\n",
       "      <th>name</th>\n",
       "    </tr>\n",
       "  </thead>\n",
       "  <tbody>\n",
       "    <tr>\n",
       "      <th>0</th>\n",
       "      <td>964</td>\n",
       "      <td>background</td>\n",
       "    </tr>\n",
       "    <tr>\n",
       "      <th>1</th>\n",
       "      <td>0</td>\n",
       "      <td>Haemorhous cassinii</td>\n",
       "    </tr>\n",
       "    <tr>\n",
       "      <th>2</th>\n",
       "      <td>1</td>\n",
       "      <td>Aramus guarauna</td>\n",
       "    </tr>\n",
       "    <tr>\n",
       "      <th>3</th>\n",
       "      <td>2</td>\n",
       "      <td>Rupornis magnirostris</td>\n",
       "    </tr>\n",
       "    <tr>\n",
       "      <th>4</th>\n",
       "      <td>3</td>\n",
       "      <td>Cyanocitta cristata</td>\n",
       "    </tr>\n",
       "  </tbody>\n",
       "</table>\n",
       "</div>"
      ],
      "text/plain": [
       "    id                   name\n",
       "0  964             background\n",
       "1    0    Haemorhous cassinii\n",
       "2    1        Aramus guarauna\n",
       "3    2  Rupornis magnirostris\n",
       "4    3    Cyanocitta cristata"
      ]
     },
     "execution_count": 11,
     "metadata": {},
     "output_type": "execute_result"
    }
   ],
   "source": [
    "bird_classifier = hub.KerasLayer('https://tfhub.dev/google/aiy/vision/classifier/birds_V1/1', input_shape = image_shape+(3,))\n",
    "\n",
    "labels = pd.read_csv('aiy_birds_V1_labelmap.csv')\n",
    "labels.head()"
   ]
  },
  {
   "cell_type": "code",
   "execution_count": 63,
   "id": "excellent-breeding",
   "metadata": {
    "jupyter": {
     "source_hidden": true
    }
   },
   "outputs": [],
   "source": [
    "def get_mobilenet_pred(image_path, classifier = classifier):\n",
    "    img = Image.open(image_path)\n",
    "    img = np.array(img)/255.0\n",
    "    result = classifier.predict(img[np.newaxis, ...])\n",
    "    predicted_label_indices = np.argpartition(result[0], -4)[-4:]\n",
    "    return labels[predicted_label_indices]"
   ]
  },
  {
   "cell_type": "code",
   "execution_count": 67,
   "id": "graphic-cookbook",
   "metadata": {
    "jupyter": {
     "source_hidden": true
    }
   },
   "outputs": [
    {
     "data": {
      "text/plain": [
       "array(['crib', 'gasmask', 'apron', 'brassiere'], dtype=object)"
      ]
     },
     "execution_count": 67,
     "metadata": {},
     "output_type": "execute_result"
    }
   ],
   "source": [
    "get_mobilenet_pred('per_imgs/dataset_3/cropped/test/neg/5_20-00068-c.png')"
   ]
  },
  {
   "cell_type": "markdown",
   "id": "auburn-london",
   "metadata": {},
   "source": [
    "---\n",
    "\n",
    "load input data\n",
    "\n",
    "---"
   ]
  },
  {
   "cell_type": "code",
   "execution_count": 24,
   "id": "naked-jersey",
   "metadata": {},
   "outputs": [],
   "source": [
    "train_dir = pathlib.Path('per_imgs/dataset_3/cropped/train')\n",
    "val_dir = pathlib.Path('per_imgs/dataset_3/cropped/val')\n",
    "test_dir = pathlib.Path('per_imgs/dataset_3/cropped/test2')"
   ]
  },
  {
   "cell_type": "code",
   "execution_count": 25,
   "id": "protecting-march",
   "metadata": {},
   "outputs": [],
   "source": [
    "train_images_dict = {\n",
    "    'pos': list(train_dir.glob('pos/*')),\n",
    "    'neg': list(train_dir.glob('neg/*')),\n",
    "}\n",
    "\n",
    "val_images_dict = {\n",
    "    'pos': list(val_dir.glob('pos/*')),\n",
    "    'neg': list(val_dir.glob('neg/*')),\n",
    "}\n",
    "\n",
    "test_images_dict = {\n",
    "    'pos': list(test_dir.glob('pos/*')),\n",
    "    'neg': list(test_dir.glob('neg/*')),\n",
    "}\n",
    "\n",
    "labels_dict = {\n",
    "    'pos': [0, 1],\n",
    "    'neg': [1, 0]\n",
    "}"
   ]
  },
  {
   "cell_type": "code",
   "execution_count": 4,
   "id": "moved-shipping",
   "metadata": {},
   "outputs": [],
   "source": [
    "def assign_x_y(images_dict):\n",
    "    \n",
    "    X, y = [], []\n",
    "\n",
    "    for label, images in images_dict.items():\n",
    "        for image in images:\n",
    "            img = cv2.imread(str(image))\n",
    "            resized_img = cv2.resize(img, (224, 224))\n",
    "\n",
    "            prep_img = tf.keras.applications.mobilenet_v2.preprocess_input(img)\n",
    "            \n",
    "            X.append(prep_img)\n",
    "            y.append(labels_dict[label])\n",
    "            \n",
    "            # convert to np array and scale\n",
    "            \n",
    "    X = np.array(X)\n",
    "    y = np.array(y)\n",
    "    \n",
    "    return X, y"
   ]
  },
  {
   "cell_type": "code",
   "execution_count": 5,
   "id": "military-worry",
   "metadata": {},
   "outputs": [],
   "source": [
    "X_train, y_train = assign_x_y(train_images_dict)\n",
    "X_val, y_val = assign_x_y(val_images_dict)\n",
    "X_test, y_test = assign_x_y(test_images_dict)"
   ]
  },
  {
   "cell_type": "code",
   "execution_count": 8,
   "id": "loaded-lecture",
   "metadata": {},
   "outputs": [
    {
     "name": "stderr",
     "output_type": "stream",
     "text": [
      "Clipping input data to the valid range for imshow with RGB data ([0..1] for floats or [0..255] for integers).\n"
     ]
    },
    {
     "data": {
      "text/plain": [
       "<matplotlib.image.AxesImage at 0x7fc0832a0460>"
      ]
     },
     "execution_count": 8,
     "metadata": {},
     "output_type": "execute_result"
    },
    {
     "data": {
      "image/png": "[encoded data removed]",
      "text/plain": [
       "<Figure size 432x288 with 1 Axes>"
      ]
     },
     "metadata": {
      "needs_background": "light"
     },
     "output_type": "display_data"
    }
   ],
   "source": [
    "plt.axis('off')\n",
    "plt.imshow(X_train[5])"
   ]
  },
  {
   "cell_type": "markdown",
   "id": "inside-uruguay",
   "metadata": {},
   "source": [
    "---\n",
    "\n",
    "building the model\n",
    "\n",
    "---"
   ]
  },
  {
   "cell_type": "markdown",
   "id": "capable-watch",
   "metadata": {},
   "source": [
    "1_3 had added dense layer with no preprocessing except for /255."
   ]
  },
  {
   "cell_type": "code",
   "execution_count": 18,
   "id": "tracked-filing",
   "metadata": {},
   "outputs": [],
   "source": [
    "t_model_1_6 = tf.keras.Sequential([\n",
    "    hub.KerasLayer('https://tfhub.dev/google/tf2-preview/mobilenet_v2/feature_vector/4', input_shape = (224, 224, 3), trainable = False),\n",
    "    layers.Dense(4096, activation='relu'),\n",
    "    layers.Dense(4096, activation='relu'),    \n",
    "    layers.Dense(100, activation='relu'),\n",
    "    tf.keras.layers.Dense(units = 2, activation = 'softmax')\n",
    "])"
   ]
  },
  {
   "cell_type": "code",
   "execution_count": 19,
   "id": "strange-proportion",
   "metadata": {},
   "outputs": [],
   "source": [
    "t_model_1_6.compile(optimizer=Adam(learning_rate=0.0001), loss = 'categorical_crossentropy', metrics = ['accuracy'])"
   ]
  },
  {
   "cell_type": "code",
   "execution_count": 20,
   "id": "promotional-incident",
   "metadata": {},
   "outputs": [],
   "source": [
    "callback = keras.callbacks.EarlyStopping(monitor='accuracy', min_delta = 0.01, patience=4)"
   ]
  },
  {
   "cell_type": "code",
   "execution_count": 21,
   "id": "statutory-authentication",
   "metadata": {},
   "outputs": [
    {
     "name": "stdout",
     "output_type": "stream",
     "text": [
      "Epoch 1/20\n",
      "52/52 [==============================] - 52s 943ms/step - loss: 0.3545 - accuracy: 0.8473\n",
      "Epoch 2/20\n",
      "52/52 [==============================] - 57s 1s/step - loss: 0.1692 - accuracy: 0.9109\n",
      "Epoch 3/20\n",
      "52/52 [==============================] - 54s 1s/step - loss: 0.1366 - accuracy: 0.9257\n",
      "Epoch 4/20\n",
      "52/52 [==============================] - 50s 958ms/step - loss: 0.1475 - accuracy: 0.9074\n",
      "Epoch 5/20\n",
      "52/52 [==============================] - 49s 950ms/step - loss: 0.1318 - accuracy: 0.9238\n",
      "Epoch 6/20\n",
      "52/52 [==============================] - 52s 1s/step - loss: 0.1258 - accuracy: 0.9041\n",
      "Epoch 7/20\n",
      "52/52 [==============================] - 55s 1s/step - loss: 0.1018 - accuracy: 0.9270\n",
      "Epoch 8/20\n",
      "52/52 [==============================] - 49s 949ms/step - loss: 0.1126 - accuracy: 0.9218\n",
      "Epoch 9/20\n",
      "52/52 [==============================] - 47s 900ms/step - loss: 0.1169 - accuracy: 0.9263\n",
      "Epoch 10/20\n",
      "52/52 [==============================] - 48s 924ms/step - loss: 0.1254 - accuracy: 0.9014\n",
      "Epoch 11/20\n",
      "52/52 [==============================] - 50s 954ms/step - loss: 0.1186 - accuracy: 0.9160\n",
      "Epoch 12/20\n",
      "52/52 [==============================] - 47s 898ms/step - loss: 0.1147 - accuracy: 0.9269\n",
      "Epoch 13/20\n",
      "52/52 [==============================] - 44s 848ms/step - loss: 0.1124 - accuracy: 0.9307\n",
      "Epoch 14/20\n",
      "52/52 [==============================] - 43s 836ms/step - loss: 0.1246 - accuracy: 0.9092\n",
      "Epoch 15/20\n",
      "52/52 [==============================] - 44s 838ms/step - loss: 0.1108 - accuracy: 0.9170\n",
      "Epoch 16/20\n",
      "52/52 [==============================] - 44s 838ms/step - loss: 0.1128 - accuracy: 0.9226\n",
      "Epoch 17/20\n",
      "52/52 [==============================] - 43s 827ms/step - loss: 0.1056 - accuracy: 0.9208\n",
      "Epoch 18/20\n",
      "52/52 [==============================] - 43s 820ms/step - loss: 0.1148 - accuracy: 0.9154\n",
      "Epoch 19/20\n",
      "52/52 [==============================] - 43s 826ms/step - loss: 0.1152 - accuracy: 0.9200\n",
      "Epoch 20/20\n",
      "52/52 [==============================] - 42s 816ms/step - loss: 0.1078 - accuracy: 0.9299\n"
     ]
    },
    {
     "data": {
      "text/plain": [
       "<tensorflow.python.keras.callbacks.History at 0x7fc031673ca0>"
      ]
     },
     "execution_count": 21,
     "metadata": {},
     "output_type": "execute_result"
    }
   ],
   "source": [
    "t_model_1_6.fit(X_train, y_train, epochs = 20)"
   ]
  },
  {
   "cell_type": "code",
   "execution_count": 22,
   "id": "smart-rider",
   "metadata": {},
   "outputs": [
    {
     "name": "stdout",
     "output_type": "stream",
     "text": [
      "15/15 [==============================] - 10s 573ms/step - loss: 0.8930 - accuracy: 0.8726\n"
     ]
    },
    {
     "data": {
      "text/plain": [
       "[0.8930084705352783, 0.8725702166557312]"
      ]
     },
     "execution_count": 22,
     "metadata": {},
     "output_type": "execute_result"
    }
   ],
   "source": [
    "t_model_1_6.evaluate(X_val, y_val)"
   ]
  },
  {
   "cell_type": "code",
   "execution_count": 26,
   "id": "patient-hampshire",
   "metadata": {},
   "outputs": [
    {
     "name": "stdout",
     "output_type": "stream",
     "text": [
      "7/7 [==============================] - 4s 515ms/step - loss: 4.3026 - accuracy: 0.4623\n"
     ]
    },
    {
     "data": {
      "text/plain": [
       "[4.302606105804443, 0.4623115658760071]"
      ]
     },
     "execution_count": 26,
     "metadata": {},
     "output_type": "execute_result"
    }
   ],
   "source": [
    "t_model_1_6.evaluate(X_test, y_test)"
   ]
  },
  {
   "cell_type": "code",
   "execution_count": 380,
   "id": "architectural-rugby",
   "metadata": {},
   "outputs": [
    {
     "data": {
      "text/plain": [
       "(224, 224, 3)"
      ]
     },
     "execution_count": 380,
     "metadata": {},
     "output_type": "execute_result"
    }
   ],
   "source": [
    "X_test[0].shape"
   ]
  },
  {
   "cell_type": "code",
   "execution_count": 383,
   "id": "devoted-mount",
   "metadata": {},
   "outputs": [
    {
     "data": {
      "text/plain": [
       "(224, 224, 3)"
      ]
     },
     "execution_count": 383,
     "metadata": {},
     "output_type": "execute_result"
    }
   ],
   "source": [
    "X_test[0].shape"
   ]
  },
  {
   "cell_type": "code",
   "execution_count": 400,
   "id": "understood-question",
   "metadata": {},
   "outputs": [
    {
     "data": {
      "text/plain": [
       "array([1])"
      ]
     },
     "execution_count": 400,
     "metadata": {},
     "output_type": "execute_result"
    }
   ],
   "source": [
    "np.argmax(t_model_1_4.predict(X_train[2][np.newaxis, ...]), axis = -1)"
   ]
  },
  {
   "cell_type": "markdown",
   "id": "proprietary-ottawa",
   "metadata": {},
   "source": [
    "---\n",
    "\n",
    "bird classifier\n",
    "\n",
    "---"
   ]
  },
  {
   "cell_type": "code",
   "execution_count": 29,
   "id": "powerful-purple",
   "metadata": {},
   "outputs": [
    {
     "data": {
      "text/plain": [
       "(1648, 2)"
      ]
     },
     "execution_count": 29,
     "metadata": {},
     "output_type": "execute_result"
    }
   ],
   "source": [
    "y_train.shape"
   ]
  },
  {
   "cell_type": "code",
   "execution_count": 33,
   "id": "dominant-reading",
   "metadata": {},
   "outputs": [],
   "source": [
    "bird_classifier = tf.keras.Sequential([\n",
    "    hub.KerasLayer('https://tfhub.dev/google/experts/bit/r50x1/in21k/bird/1', input_shape = image_shape+(3,), trainable = False),\n",
    "        tf.keras.layers.Dense(units = 2, activation = 'softmax')\n",
    "])"
   ]
  },
  {
   "cell_type": "code",
   "execution_count": 34,
   "id": "younger-software",
   "metadata": {},
   "outputs": [],
   "source": [
    "bird_classifier.compile(optimizer=Adam(learning_rate=0.0001), loss = 'categorical_crossentropy', metrics = ['accuracy'])"
   ]
  },
  {
   "cell_type": "code",
   "execution_count": 35,
   "id": "liquid-pollution",
   "metadata": {},
   "outputs": [
    {
     "name": "stdout",
     "output_type": "stream",
     "text": [
      "Epoch 1/10\n",
      "52/52 [==============================] - 409s 7s/step - loss: 0.9307 - accuracy: 0.5325\n",
      "Epoch 2/10\n",
      "52/52 [==============================] - 359s 7s/step - loss: 0.3238 - accuracy: 0.8642\n",
      "Epoch 3/10\n",
      "52/52 [==============================] - 331s 6s/step - loss: 0.2425 - accuracy: 0.8945\n",
      "Epoch 4/10\n",
      "52/52 [==============================] - 350s 7s/step - loss: 0.2011 - accuracy: 0.9092\n",
      "Epoch 5/10\n",
      "52/52 [==============================] - 380s 7s/step - loss: 0.2046 - accuracy: 0.9032\n",
      "Epoch 6/10\n",
      "52/52 [==============================] - 366s 7s/step - loss: 0.2122 - accuracy: 0.8984\n",
      "Epoch 7/10\n",
      "52/52 [==============================] - 314s 6s/step - loss: 0.2009 - accuracy: 0.9024\n",
      "Epoch 8/10\n",
      "52/52 [==============================] - 296s 6s/step - loss: 0.1781 - accuracy: 0.9111\n",
      "Epoch 9/10\n",
      "52/52 [==============================] - 326s 6s/step - loss: 0.1764 - accuracy: 0.9046\n",
      "Epoch 10/10\n",
      "52/52 [==============================] - 321s 6s/step - loss: 0.1930 - accuracy: 0.8995\n"
     ]
    },
    {
     "data": {
      "text/plain": [
       "<tensorflow.python.keras.callbacks.History at 0x7f8674ebd130>"
      ]
     },
     "execution_count": 35,
     "metadata": {},
     "output_type": "execute_result"
    }
   ],
   "source": [
    "bird_classifier.fit(X_train, y_train, epochs = 10)"
   ]
  },
  {
   "cell_type": "code",
   "execution_count": 90,
   "id": "municipal-allocation",
   "metadata": {
    "jupyter": {
     "source_hidden": true
    }
   },
   "outputs": [],
   "source": [
    "def get_transfer_pred(image_path, classifier = classifier):\n",
    "    img = Image.open(image_path)\n",
    "    img = np.array(img)/255.0\n",
    "    result = classifier.predict(img[np.newaxis, ...])\n",
    "    return result\n",
    "\n",
    "def make_plot_predictions(test_batch, model):\n",
    "    cm_plot_labels = ['neg', 'pos']\n",
    "    predictions = model.predict(x = test_batch, verbose = 0)\n",
    "    cm = confusion_matrix(y_true=test_batch.classes, y_pred = np.argmax(predictions, axis = -1))\n",
    "    return plot_confusion_matrix(cm = cm, classes = cm_plot_labels, title = 'Confusion Matrix')"
   ]
  },
  {
   "cell_type": "code",
   "execution_count": 36,
   "id": "detailed-recipient",
   "metadata": {},
   "outputs": [
    {
     "name": "stdout",
     "output_type": "stream",
     "text": [
      "15/15 [==============================] - 86s 6s/step - loss: 0.3216 - accuracy: 0.8812\n"
     ]
    },
    {
     "data": {
      "text/plain": [
       "[0.3216049373149872, 0.8812094926834106]"
      ]
     },
     "execution_count": 36,
     "metadata": {},
     "output_type": "execute_result"
    }
   ],
   "source": [
    "bird_classifier.evaluate(X_val, y_val)"
   ]
  },
  {
   "cell_type": "code",
   "execution_count": 37,
   "id": "arctic-facing",
   "metadata": {},
   "outputs": [
    {
     "name": "stdout",
     "output_type": "stream",
     "text": [
      "7/7 [==============================] - 32s 4s/step - loss: 0.9965 - accuracy: 0.6080\n"
     ]
    },
    {
     "data": {
      "text/plain": [
       "[0.9965476989746094, 0.6080402135848999]"
      ]
     },
     "execution_count": 37,
     "metadata": {},
     "output_type": "execute_result"
    }
   ],
   "source": [
    "bird_classifier.evaluate(X_test, y_test)"
   ]
  },
  {
   "cell_type": "code",
   "execution_count": null,
   "id": "fourth-shower",
   "metadata": {},
   "outputs": [],
   "source": []
  }
 ],
 "metadata": {
  "kernelspec": {
   "display_name": "Python 3",
   "language": "python",
   "name": "python3"
  },
  "language_info": {
   "codemirror_mode": {
    "name": "ipython",
    "version": 3
   },
   "file_extension": ".py",
   "mimetype": "text/x-python",
   "name": "python",
   "nbconvert_exporter": "python",
   "pygments_lexer": "ipython3",
   "version": "3.8.5"
  }
 },
 "nbformat": 4,
 "nbformat_minor": 5
}
