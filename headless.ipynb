{
 "cells": [
  {
   "cell_type": "code",
   "execution_count": 19,
   "id": "regional-camping",
   "metadata": {},
   "outputs": [],
   "source": [
    "from selenium import webdriver\n",
    "from selenium.webdriver.support.select import Select\n",
    "from selenium.webdriver.common.by import By\n",
    "from selenium.webdriver.chrome.options import Options \n",
    "import os\n",
    "import time"
   ]
  },
  {
   "cell_type": "code",
   "execution_count": 10,
   "id": "vocational-insert",
   "metadata": {},
   "outputs": [],
   "source": [
    "chrome_options = Options()  \n",
    "chrome_options.add_argument(\"--headless\")  \n",
    "# chrome_options.binary_location = '/Applications/Google Chrome Canary.app/Contents/MacOS/Google Chrome Canary' "
   ]
  },
  {
   "cell_type": "code",
   "execution_count": 28,
   "id": "atomic-information",
   "metadata": {},
   "outputs": [],
   "source": [
    "# open falcon cam website\n",
    "PATH = '/Applications/chromedriver'\n",
    "\n",
    "driver = webdriver.Chrome(executable_path=PATH, options = chrome_options)  \n",
    "driver.get('https://www.nottinghamshirewildlife.org/peregrine-cam')\n",
    "\n",
    "elements = driver.find_elements(By.TAG_NAME, 'button')\n",
    "\n",
    "video_buttons = []\n",
    "for i in elements:\n",
    "    if i.text == 'Play Video':\n",
    "        video_buttons.append(i)\n",
    "\n",
    "# start the second (zoomed in) live stream\n",
    "for i, j in enumerate(video_buttons):\n",
    "    if i == 1:\n",
    "        j.click()\n",
    "        \n",
    "# locate video element for screenshotting\n",
    "video_boxes = driver.find_elements(By.TAG_NAME, 'video')\n",
    "\n",
    "for i, j in enumerate(video_boxes):\n",
    "    if i == 1:\n",
    "        video_box = j"
   ]
  },
  {
   "cell_type": "code",
   "execution_count": 16,
   "id": "steady-usage",
   "metadata": {},
   "outputs": [],
   "source": [
    "def get_screenshots():\n",
    "    global video_box\n",
    "    video_box.screenshot('live_images/image1.png')\n",
    "    time.sleep(1)\n",
    "    video_box.screenshot('live_images/image2.png')\n",
    "    time.sleep(1)\n",
    "    video_box.screenshot('live_images/image3.png')\n",
    "\n",
    "def is_there_a_bird():\n",
    "    \n",
    "    snapshot_time = datetime.datetime.now()\n",
    "    get_screenshots()\n",
    "    \n",
    "    predictions = []\n",
    "    for i in ['1', '2', '3']:\n",
    "        test_image = image.load_img('live_images/image' + i + '.png', target_size = (256, 256))\n",
    "        test_image = image.img_to_array(test_image)\n",
    "        test_image = np.expand_dims(test_image, axis = 0)\n",
    "        test_image = preprocess_input(test_image)\n",
    "        prediction = np.argmax(model.predict(test_image), axis = -1)\n",
    "        predictions.append(prediction)\n",
    "        if prediction == 0:\n",
    "            copyfile('live_images/image' + i + '.png',\n",
    "                     'saved_positives/' + \n",
    "                      str(snapshot_time).replace(' ', '').replace(':', '-').replace('.', '') + '-' + i + '.png')\n",
    "\n",
    "    if stats.mode(predictions)[0][0] == 0:\n",
    "        status = 'bird'\n",
    "        \n",
    "    elif stats.mode(predictions)[0][0] == 1:\n",
    "        status = 'no bird'\n",
    "        \n",
    "    with open('bird_sightings.csv', 'a', newline='') as csvfile:\n",
    "        status_writer = csv.writer(csvfile, delimiter=',',\n",
    "                                quotechar='|', quoting=csv.QUOTE_MINIMAL)\n",
    "        status_writer.writerow([status, snapshot_time])"
   ]
  },
  {
   "cell_type": "code",
   "execution_count": 29,
   "id": "ideal-governor",
   "metadata": {},
   "outputs": [],
   "source": [
    "get_screenshots()"
   ]
  },
  {
   "cell_type": "code",
   "execution_count": 31,
   "id": "fatal-aircraft",
   "metadata": {},
   "outputs": [],
   "source": [
    "driver.quit()"
   ]
  },
  {
   "cell_type": "code",
   "execution_count": null,
   "id": "mathematical-yesterday",
   "metadata": {},
   "outputs": [],
   "source": []
  }
 ],
 "metadata": {
  "kernelspec": {
   "display_name": "Python 3",
   "language": "python",
   "name": "python3"
  },
  "language_info": {
   "codemirror_mode": {
    "name": "ipython",
    "version": 3
   },
   "file_extension": ".py",
   "mimetype": "text/x-python",
   "name": "python",
   "nbconvert_exporter": "python",
   "pygments_lexer": "ipython3",
   "version": "3.8.5"
  }
 },
 "nbformat": 4,
 "nbformat_minor": 5
}
