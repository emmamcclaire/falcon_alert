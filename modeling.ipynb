{
 "cells": [
  {
   "cell_type": "code",
   "execution_count": 1,
   "id": "documentary-stranger",
   "metadata": {},
   "outputs": [],
   "source": [
    "from tensorflow import keras\n",
    "from keras.models import Sequential\n",
    "from keras.layers import Dense, Conv2D, MaxPool2D, Flatten\n",
    "from tensorflow.keras.preprocessing.image import ImageDataGenerator\n",
    "import matplotlib.pyplot as plt\n",
    "from tensorflow.keras.optimizers import Adam"
   ]
  },
  {
   "cell_type": "code",
   "execution_count": 2,
   "id": "spanish-narrow",
   "metadata": {},
   "outputs": [],
   "source": [
    "def plot_confusion_matrix(cm, classes,\n",
    "                          normalize=False,\n",
    "                          title='Confusion matrix',\n",
    "                          cmap=plt.cm.Blues):\n",
    "    \"\"\"\n",
    "    This function prints and plots the confusion matrix.\n",
    "    Normalization can be applied by setting `normalize=True`.\n",
    "    \"\"\"\n",
    "    plt.imshow(cm, interpolation='nearest', cmap=cmap)\n",
    "    plt.title(title)\n",
    "    plt.colorbar()\n",
    "    tick_marks = np.arange(len(classes))\n",
    "    plt.xticks(tick_marks, classes, rotation=45)\n",
    "    plt.yticks(tick_marks, classes)\n",
    "\n",
    "    if normalize:\n",
    "        cm = cm.astype('float') / cm.sum(axis=1)[:, np.newaxis]\n",
    "        print(\"Normalized confusion matrix\")\n",
    "    else:\n",
    "        print('Confusion matrix, without normalization')\n",
    "\n",
    "    print(cm)\n",
    "\n",
    "    thresh = cm.max() / 2.\n",
    "    for i, j in itertools.product(range(cm.shape[0]), range(cm.shape[1])):\n",
    "        plt.text(j, i, cm[i, j],\n",
    "            horizontalalignment=\"center\",\n",
    "            color=\"white\" if cm[i, j] > thresh else \"black\")\n",
    "\n",
    "    plt.tight_layout()\n",
    "    plt.ylabel('True label')\n",
    "    plt.xlabel('Predicted label')"
   ]
  },
  {
   "cell_type": "code",
   "execution_count": 3,
   "id": "heated-windsor",
   "metadata": {},
   "outputs": [
    {
     "name": "stdout",
     "output_type": "stream",
     "text": [
      "/Users/emma-clairemccarthy/Desktop/Metis/projects/falcon_alert\n"
     ]
    }
   ],
   "source": [
    "!pwd"
   ]
  },
  {
   "cell_type": "code",
   "execution_count": 4,
   "id": "atomic-confidence",
   "metadata": {},
   "outputs": [],
   "source": [
    "train_path = 'per_imgs/dataset_3/train'\n",
    "val_path = 'per_imgs/dataset_3/val'"
   ]
  },
  {
   "cell_type": "code",
   "execution_count": 33,
   "id": "employed-retail",
   "metadata": {},
   "outputs": [
    {
     "name": "stdout",
     "output_type": "stream",
     "text": [
      "Found 1648 images belonging to 2 classes.\n",
      "Found 463 images belonging to 2 classes.\n"
     ]
    }
   ],
   "source": [
    "train_batches = ImageDataGenerator(preprocessing_function=keras.applications.vgg16.preprocess_input, \n",
    "                               width_shift_range=0.2, \n",
    "                               height_shift_range=0.2) \\\n",
    "    .flow_from_directory(directory = train_path, target_size = (256, 256), \n",
    "                         classes = ['neg', 'pos'], batch_size = 10)\n",
    "\n",
    "val_batches = ImageDataGenerator(preprocessing_function=keras.applications.vgg16.preprocess_input, \n",
    "                                width_shift_range=0.2, \n",
    "                               height_shift_range=0.2) \\\n",
    "    .flow_from_directory(directory = val_path, target_size = (256, 256), \n",
    "                         classes = ['neg', 'pos'], batch_size = 10)"
   ]
  },
  {
   "cell_type": "code",
   "execution_count": 34,
   "id": "chubby-charm",
   "metadata": {},
   "outputs": [],
   "source": [
    "model_6_1 = Sequential([\n",
    "    Conv2D(filters = 32, kernel_size = (3, 3), activation = 'relu', padding = 'same', input_shape=(256, 256, 3)),\n",
    "    Conv2D(filters = 32, kernel_size = (3, 3), activation = 'relu', padding = 'same'),\n",
    "    MaxPool2D(pool_size=(2, 2), strides=2),\n",
    "    Conv2D(filters = 64, kernel_size = (3, 3), activation = 'relu', padding = 'same'),\n",
    "    Conv2D(filters = 64, kernel_size = (3, 3), activation = 'relu', padding = 'same'),\n",
    "    MaxPool2D(pool_size=(2, 2), strides=2),\n",
    "    Conv2D(filters = 128, kernel_size = (3, 3), activation = 'relu', padding = 'same'),\n",
    "    MaxPool2D(pool_size=(2, 2), strides=2),    \n",
    "    Conv2D(filters = 256, kernel_size = (3, 3), activation = 'relu', padding = 'same'),\n",
    "    MaxPool2D(pool_size=(2, 2), strides=2),    \n",
    "    Conv2D(filters = 512, kernel_size = (3, 3), activation = 'relu', padding = 'same'),\n",
    "    MaxPool2D(pool_size=(2, 2), strides=2), \n",
    "    Flatten(),\n",
    "    Dense(units=2, activation='softmax')])"
   ]
  },
  {
   "cell_type": "code",
   "execution_count": 140,
   "id": "operating-integer",
   "metadata": {},
   "outputs": [],
   "source": [
    "# another option is to use binary_crossentropy and using sigmoid\n",
    "# as the activation function for the output layer, which will \n",
    "# result in one output node"
   ]
  },
  {
   "cell_type": "code",
   "execution_count": 36,
   "id": "matched-bobby",
   "metadata": {},
   "outputs": [],
   "source": [
    "model_6_1.compile(optimizer=Adam(learning_rate=0.001), loss = 'categorical_crossentropy', metrics = ['accuracy'])"
   ]
  },
  {
   "cell_type": "code",
   "execution_count": 37,
   "id": "sensitive-moisture",
   "metadata": {},
   "outputs": [],
   "source": [
    "callback = keras.callbacks.EarlyStopping(monitor='val_accuracy', min_delta = 0.01, patience=4)"
   ]
  },
  {
   "cell_type": "code",
   "execution_count": 4,
   "id": "continuous-cologne",
   "metadata": {},
   "outputs": [],
   "source": [
    "model_6_1.fit(x = train_batches, validation_data = val_batches, callbacks=[callback], epochs = 15)"
   ]
  },
  {
   "cell_type": "code",
   "execution_count": 131,
   "id": "multiple-width",
   "metadata": {},
   "outputs": [],
   "source": [
    "model_5_1.save('models/model_5_1.h5')"
   ]
  },
  {
   "cell_type": "code",
   "execution_count": 21,
   "id": "international-separate",
   "metadata": {},
   "outputs": [],
   "source": [
    "# from tensorflow.keras.models import load_model\n",
    "# model = load_model('models/model_3.h5')"
   ]
  },
  {
   "cell_type": "code",
   "execution_count": 15,
   "id": "commercial-convert",
   "metadata": {},
   "outputs": [],
   "source": [
    "test_path = 'per_imgs/dataset_3/test'\n",
    "test_2_path = 'per_imgs/dataset_3/test2'"
   ]
  },
  {
   "cell_type": "code",
   "execution_count": 16,
   "id": "coral-gazette",
   "metadata": {},
   "outputs": [
    {
     "name": "stdout",
     "output_type": "stream",
     "text": [
      "Found 199 images belonging to 2 classes.\n",
      "Found 152 images belonging to 2 classes.\n"
     ]
    }
   ],
   "source": [
    "test_batches = ImageDataGenerator(preprocessing_function=keras.applications.vgg16.preprocess_input) \\\n",
    "    .flow_from_directory(directory = test_path, target_size = (256, 256), \n",
    "                         classes = ['neg', 'pos'], batch_size = 10, shuffle = False)\n",
    "test_2_batches = ImageDataGenerator(preprocessing_function=keras.applications.vgg16.preprocess_input) \\\n",
    "    .flow_from_directory(directory = test_2_path, target_size = (256, 256), \n",
    "                         classes = ['neg', 'pos'], batch_size = 10, shuffle = False)"
   ]
  },
  {
   "cell_type": "code",
   "execution_count": 17,
   "id": "iraqi-danish",
   "metadata": {},
   "outputs": [],
   "source": [
    "import numpy as np\n",
    "from sklearn.metrics import confusion_matrix\n",
    "import itertools"
   ]
  },
  {
   "cell_type": "code",
   "execution_count": 40,
   "id": "metric-belarus",
   "metadata": {},
   "outputs": [],
   "source": [
    "def make_plot_predictions(test_batch, model):\n",
    "    cm_plot_labels = ['neg', 'pos']\n",
    "    predictions = model.predict(x = test_batch, verbose = 0)\n",
    "    cm = confusion_matrix(y_true=test_batch.classes, y_pred = np.argmax(predictions, axis = -1))\n",
    "    return plot_confusion_matrix(cm = cm, classes = cm_plot_labels, title = 'Confusion Matrix')"
   ]
  },
  {
   "cell_type": "code",
   "execution_count": 45,
   "id": "great-camera",
   "metadata": {},
   "outputs": [
    {
     "data": {
      "text/plain": [
       "array([0, 0, 0, 0, 0, 0, 0, 0, 0, 0, 0, 0, 0, 0, 0, 0, 0, 0, 0, 0, 0, 0,\n",
       "       0, 0, 0, 0, 0, 0, 0, 0, 0, 0, 0, 0, 0, 0, 0, 0, 0, 0, 0, 0, 0, 0,\n",
       "       0, 0, 0, 0, 0, 0, 0, 0, 0, 0, 0, 0, 0, 0, 0, 0, 0, 0, 0, 0, 0, 0,\n",
       "       0, 0, 0, 0, 0, 0, 0, 0, 0, 0, 0, 0, 0, 0, 0, 0, 0, 0, 0, 0, 0, 0,\n",
       "       0, 0, 0, 0, 0, 0, 0, 0, 0, 0, 0, 0, 0, 0, 0, 0, 0, 0, 0, 0, 1, 1,\n",
       "       1, 1, 1, 1, 1, 1, 1, 1, 1, 1, 1, 1, 1, 1, 1, 1, 1, 1, 1, 1, 1, 1,\n",
       "       1, 1, 1, 1, 1, 1, 1, 1, 1, 1, 1, 1, 1, 1, 1, 1, 1, 1, 1, 1, 1, 1,\n",
       "       1, 1, 1, 1, 1, 1, 1, 1, 1, 1, 1, 1, 1, 1, 1, 1, 1, 1, 1, 1, 1, 1,\n",
       "       1, 1, 1, 1, 1, 1, 1, 1, 1, 1, 1, 1, 1, 1, 1, 1, 1, 1, 1, 1, 1, 1,\n",
       "       1], dtype=int32)"
      ]
     },
     "execution_count": 45,
     "metadata": {},
     "output_type": "execute_result"
    }
   ],
   "source": [
    "test_batches.classes"
   ]
  },
  {
   "cell_type": "code",
   "execution_count": 41,
   "id": "knowing-double",
   "metadata": {},
   "outputs": [
    {
     "name": "stdout",
     "output_type": "stream",
     "text": [
      "Confusion matrix, without normalization\n",
      "[[108   0]\n",
      " [ 74  17]]\n"
     ]
    },
    {
     "data": {
      "image/png": "[encoded data removed]",
      "text/plain": [
       "<Figure size 432x288 with 2 Axes>"
      ]
     },
     "metadata": {
      "needs_background": "light"
     },
     "output_type": "display_data"
    }
   ],
   "source": [
    "make_plot_predictions(test_batches, model_5_1)"
   ]
  },
  {
   "cell_type": "code",
   "execution_count": 128,
   "id": "outstanding-return",
   "metadata": {},
   "outputs": [
    {
     "name": "stdout",
     "output_type": "stream",
     "text": [
      "Confusion matrix, without normalization\n",
      "[[60 48]\n",
      " [ 6 85]]\n"
     ]
    },
    {
     "data": {
      "image/png": "[encoded data removed]",
      "text/plain": [
       "<Figure size 432x288 with 2 Axes>"
      ]
     },
     "metadata": {
      "needs_background": "light"
     },
     "output_type": "display_data"
    }
   ],
   "source": [
    "make_plot_predictions(test_batches, model_4_1)"
   ]
  },
  {
   "cell_type": "code",
   "execution_count": 130,
   "id": "responsible-viewer",
   "metadata": {},
   "outputs": [
    {
     "data": {
      "text/plain": [
       "0.7286432160804021"
      ]
     },
     "execution_count": 130,
     "metadata": {},
     "output_type": "execute_result"
    }
   ],
   "source": [
    "(60+85)/199"
   ]
  },
  {
   "cell_type": "code",
   "execution_count": 129,
   "id": "authorized-google",
   "metadata": {},
   "outputs": [
    {
     "name": "stdout",
     "output_type": "stream",
     "text": [
      "Confusion matrix, without normalization\n",
      "[[123  13]\n",
      " [ 16   0]]\n"
     ]
    },
    {
     "data": {
      "image/png": "[encoded data removed]",
      "text/plain": [
       "<Figure size 432x288 with 2 Axes>"
      ]
     },
     "metadata": {
      "needs_background": "light"
     },
     "output_type": "display_data"
    }
   ],
   "source": [
    "make_plot_predictions(test_2_batches, model_3_1)"
   ]
  },
  {
   "cell_type": "code",
   "execution_count": 115,
   "id": "marked-communist",
   "metadata": {},
   "outputs": [
    {
     "name": "stdout",
     "output_type": "stream",
     "text": [
      "Confusion matrix, without normalization\n",
      "[[30 78]\n",
      " [ 6 85]]\n"
     ]
    },
    {
     "data": {
      "image/png": "[encoded data removed]",
      "text/plain": [
       "<Figure size 432x288 with 2 Axes>"
      ]
     },
     "metadata": {
      "needs_background": "light"
     },
     "output_type": "display_data"
    }
   ],
   "source": [
    "make_plot_predictions(test_batches, model_3_1)"
   ]
  },
  {
   "cell_type": "code",
   "execution_count": 121,
   "id": "latest-reconstruction",
   "metadata": {},
   "outputs": [
    {
     "name": "stdout",
     "output_type": "stream",
     "text": [
      "Confusion matrix, without normalization\n",
      "[[123  13]\n",
      " [ 16   0]]\n"
     ]
    },
    {
     "data": {
      "image/png": "[encoded data removed]",
      "text/plain": [
       "<Figure size 432x288 with 2 Axes>"
      ]
     },
     "metadata": {
      "needs_background": "light"
     },
     "output_type": "display_data"
    }
   ],
   "source": [
    "make_plot_predictions(test_2_batches, model_3_1)"
   ]
  },
  {
   "cell_type": "code",
   "execution_count": 92,
   "id": "center-adult",
   "metadata": {},
   "outputs": [
    {
     "data": {
      "text/plain": [
       "0.5226130653266332"
      ]
     },
     "execution_count": 92,
     "metadata": {},
     "output_type": "execute_result"
    }
   ],
   "source": [
    "(91+13)/199"
   ]
  },
  {
   "cell_type": "code",
   "execution_count": 116,
   "id": "convinced-overall",
   "metadata": {},
   "outputs": [
    {
     "data": {
      "text/plain": [
       "0.5778894472361809"
      ]
     },
     "execution_count": 116,
     "metadata": {},
     "output_type": "execute_result"
    }
   ],
   "source": [
    "(30+85)/199"
   ]
  },
  {
   "cell_type": "code",
   "execution_count": 57,
   "id": "vertical-elizabeth",
   "metadata": {},
   "outputs": [
    {
     "name": "stdout",
     "output_type": "stream",
     "text": [
      "Confusion matrix, without normalization\n",
      "[[ 0 14]\n",
      " [ 0 15]]\n"
     ]
    },
    {
     "data": {
      "image/png": "[encoded data removed]",
      "text/plain": [
       "<Figure size 432x288 with 2 Axes>"
      ]
     },
     "metadata": {
      "needs_background": "light"
     },
     "output_type": "display_data"
    }
   ],
   "source": [
    "make_plot_predictions(test_nsw, model_2_1)"
   ]
  },
  {
   "cell_type": "code",
   "execution_count": 61,
   "id": "single-power",
   "metadata": {},
   "outputs": [
    {
     "name": "stdout",
     "output_type": "stream",
     "text": [
      "Confusion matrix, without normalization\n",
      "[[ 1 74]\n",
      " [ 1 54]]\n"
     ]
    },
    {
     "data": {
      "image/png": "[encoded data removed]",
      "text/plain": [
       "<Figure size 432x288 with 2 Axes>"
      ]
     },
     "metadata": {
      "needs_background": "light"
     },
     "output_type": "display_data"
    }
   ],
   "source": [
    "make_plot_predictions(test_nott_2_day, model_2_1)"
   ]
  },
  {
   "cell_type": "code",
   "execution_count": null,
   "id": "ultimate-swedish",
   "metadata": {},
   "outputs": [],
   "source": []
  }
 ],
 "metadata": {
  "kernelspec": {
   "display_name": "Python 3",
   "language": "python",
   "name": "python3"
  },
  "language_info": {
   "codemirror_mode": {
    "name": "ipython",
    "version": 3
   },
   "file_extension": ".py",
   "mimetype": "text/x-python",
   "name": "python",
   "nbconvert_exporter": "python",
   "pygments_lexer": "ipython3",
   "version": "3.8.5"
  }
 },
 "nbformat": 4,
 "nbformat_minor": 5
}
