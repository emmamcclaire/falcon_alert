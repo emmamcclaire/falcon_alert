{
 "cells": [
  {
   "cell_type": "code",
   "execution_count": 13,
   "id": "coupled-niagara",
   "metadata": {},
   "outputs": [],
   "source": [
    "from selenium import webdriver\n",
    "from selenium.webdriver.support.select import Select\n",
    "from selenium.webdriver.common.by import By\n",
    "import schedule\n",
    "import time\n",
    "from tensorflow.keras.models import load_model\n",
    "from tensorflow.keras.preprocessing import image\n",
    "from tensorflow import keras\n",
    "import numpy as np\n",
    "from tensorflow.keras.applications.vgg19 import preprocess_input\n",
    "from scipy import stats\n",
    "import datetime\n",
    "import csv\n",
    "from shutil import copyfile\n",
    "from tensorflow.keras.optimizers import Adam"
   ]
  },
  {
   "cell_type": "code",
   "execution_count": 14,
   "id": "subtle-leisure",
   "metadata": {},
   "outputs": [],
   "source": [
    "model = load_model('models/model_3.h5')"
   ]
  },
  {
   "cell_type": "code",
   "execution_count": 21,
   "id": "arbitrary-chemistry",
   "metadata": {},
   "outputs": [],
   "source": [
    "# open falcon cam website\n",
    "PATH = '/Applications/chromedriver'\n",
    "\n",
    "driver = webdriver.Chrome(PATH)\n",
    "driver.get('https://www.nottinghamshirewildlife.org/peregrine-cam')\n",
    "\n",
    "elements = driver.find_elements(By.TAG_NAME, 'button')\n",
    "\n",
    "video_buttons = []\n",
    "for i in elements:\n",
    "    if i.text == 'Play Video':\n",
    "        video_buttons.append(i)\n",
    "\n",
    "# start the second (zoomed in) live stream\n",
    "for i, j in enumerate(video_buttons):\n",
    "    if i == 1:\n",
    "        j.click()\n",
    "        \n",
    "# locate video element for screenshotting\n",
    "video_boxes = driver.find_elements(By.TAG_NAME, 'video')\n",
    "\n",
    "for i, j in enumerate(video_boxes):\n",
    "    if i == 1:\n",
    "        video_box = j\n",
    "        \n",
    "schedule.clear()"
   ]
  },
  {
   "cell_type": "code",
   "execution_count": 17,
   "id": "fifteen-dairy",
   "metadata": {},
   "outputs": [
    {
     "data": {
      "text/html": [
       "<div>\n",
       "<style scoped>\n",
       "    .dataframe tbody tr th:only-of-type {\n",
       "        vertical-align: middle;\n",
       "    }\n",
       "\n",
       "    .dataframe tbody tr th {\n",
       "        vertical-align: top;\n",
       "    }\n",
       "\n",
       "    .dataframe thead th {\n",
       "        text-align: right;\n",
       "    }\n",
       "</style>\n",
       "<table border=\"1\" class=\"dataframe\">\n",
       "  <thead>\n",
       "    <tr style=\"text-align: right;\">\n",
       "      <th></th>\n",
       "      <th>status</th>\n",
       "      <th>datetime</th>\n",
       "    </tr>\n",
       "  </thead>\n",
       "  <tbody>\n",
       "  </tbody>\n",
       "</table>\n",
       "</div>"
      ],
      "text/plain": [
       "Empty DataFrame\n",
       "Columns: [status, datetime]\n",
       "Index: []"
      ]
     },
     "execution_count": 17,
     "metadata": {},
     "output_type": "execute_result"
    }
   ],
   "source": [
    "# # csv reset\n",
    "# import pandas as pd\n",
    "# df = pd.DataFrame(columns = ['status', 'datetime'])\n",
    "# df.to_csv('bird_sightings.csv', index = False)\n",
    "# df.head()"
   ]
  },
  {
   "cell_type": "code",
   "execution_count": 16,
   "id": "dying-colony",
   "metadata": {},
   "outputs": [],
   "source": [
    "def get_screenshots():\n",
    "    global video_box\n",
    "    video_box.screenshot('live_images/image1.png')\n",
    "    time.sleep(1)\n",
    "    video_box.screenshot('live_images/image2.png')\n",
    "    time.sleep(1)\n",
    "    video_box.screenshot('live_images/image3.png')\n",
    "\n",
    "def is_there_a_bird():\n",
    "    \n",
    "    snapshot_time = datetime.datetime.now()\n",
    "    get_screenshots()\n",
    "    \n",
    "    predictions = []\n",
    "    for i in ['1', '2', '3']:\n",
    "        test_image = image.load_img('live_images/image' + i + '.png', target_size = (256, 256))\n",
    "        test_image = image.img_to_array(test_image)\n",
    "        test_image = np.expand_dims(test_image, axis = 0)\n",
    "        test_image = preprocess_input(test_image)\n",
    "        prediction = np.argmax(model.predict(test_image), axis = -1)\n",
    "        predictions.append(prediction)\n",
    "        if prediction == 0:\n",
    "            copyfile('live_images/image' + i + '.png',\n",
    "                     'per_imgs/saved_positives/' + \n",
    "                      str(snapshot_time).replace(' ', '').replace(':', '-').replace('.', '') + '-' + i + '.png')\n",
    "        elif prediction == 1:\n",
    "            copyfile('live_images/image' + i + '.png',\n",
    "                     'per_imgs/saved_negatives/' + \n",
    "                      str(snapshot_time).replace(' ', '').replace(':', '-').replace('.', '') + '-' + i + '.png')\n",
    "\n",
    "    if stats.mode(predictions)[0][0] == 0:\n",
    "        status = 'bird'\n",
    "        \n",
    "    elif stats.mode(predictions)[0][0] == 1:\n",
    "        status = 'no bird'\n",
    "        \n",
    "    with open('bird_sightings.csv', 'a', newline='') as csvfile:\n",
    "        status_writer = csv.writer(csvfile, delimiter=',',\n",
    "                                quotechar='|', quoting=csv.QUOTE_MINIMAL)\n",
    "        status_writer.writerow([status, snapshot_time])"
   ]
  },
  {
   "cell_type": "code",
   "execution_count": 22,
   "id": "collect-graphics",
   "metadata": {},
   "outputs": [
    {
     "ename": "KeyboardInterrupt",
     "evalue": "",
     "output_type": "error",
     "traceback": [
      "\u001b[0;31m---------------------------------------------------------------------------\u001b[0m",
      "\u001b[0;31mKeyboardInterrupt\u001b[0m                         Traceback (most recent call last)",
      "\u001b[0;32m<ipython-input-22-b489269f8d30>\u001b[0m in \u001b[0;36m<module>\u001b[0;34m\u001b[0m\n\u001b[1;32m      3\u001b[0m \u001b[0;32mwhile\u001b[0m \u001b[0;32mTrue\u001b[0m\u001b[0;34m:\u001b[0m\u001b[0;34m\u001b[0m\u001b[0;34m\u001b[0m\u001b[0m\n\u001b[1;32m      4\u001b[0m     \u001b[0mschedule\u001b[0m\u001b[0;34m.\u001b[0m\u001b[0mrun_pending\u001b[0m\u001b[0;34m(\u001b[0m\u001b[0;34m)\u001b[0m\u001b[0;34m\u001b[0m\u001b[0;34m\u001b[0m\u001b[0m\n\u001b[0;32m----> 5\u001b[0;31m     \u001b[0mtime\u001b[0m\u001b[0;34m.\u001b[0m\u001b[0msleep\u001b[0m\u001b[0;34m(\u001b[0m\u001b[0;36m1\u001b[0m\u001b[0;34m)\u001b[0m\u001b[0;34m\u001b[0m\u001b[0;34m\u001b[0m\u001b[0m\n\u001b[0m",
      "\u001b[0;31mKeyboardInterrupt\u001b[0m: "
     ]
    }
   ],
   "source": [
    "schedule.every(1).minutes.do(is_there_a_bird)\n",
    "\n",
    "while True:\n",
    "    schedule.run_pending()\n",
    "    time.sleep(1)"
   ]
  },
  {
   "cell_type": "code",
   "execution_count": null,
   "id": "blond-handbook",
   "metadata": {},
   "outputs": [],
   "source": []
  }
 ],
 "metadata": {
  "kernelspec": {
   "display_name": "Python 3",
   "language": "python",
   "name": "python3"
  },
  "language_info": {
   "codemirror_mode": {
    "name": "ipython",
    "version": 3
   },
   "file_extension": ".py",
   "mimetype": "text/x-python",
   "name": "python",
   "nbconvert_exporter": "python",
   "pygments_lexer": "ipython3",
   "version": "3.8.5"
  }
 },
 "nbformat": 4,
 "nbformat_minor": 5
}
