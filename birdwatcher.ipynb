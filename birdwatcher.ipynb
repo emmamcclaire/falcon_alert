{
 "cells": [
  {
   "cell_type": "code",
   "execution_count": 1,
   "id": "varying-apparatus",
   "metadata": {},
   "outputs": [],
   "source": [
    "from selenium import webdriver\n",
    "from selenium.webdriver.support.select import Select\n",
    "from selenium.webdriver.common.by import By\n",
    "import schedule\n",
    "import time\n",
    "import tensorflow as tf\n",
    "from tensorflow.keras.models import load_model\n",
    "from tensorflow.keras.preprocessing import image\n",
    "from tensorflow import keras\n",
    "import numpy as np\n",
    "from tensorflow.keras.applications.vgg19 import preprocess_input\n",
    "from scipy import stats\n",
    "import datetime\n",
    "import csv\n",
    "from shutil import copyfile\n",
    "import cv2\n",
    "import pytz \n",
    "GMT = pytz.timezone('GMT')\n",
    "import tensorflow_hub as hub\n",
    "from PIL import Image"
   ]
  },
  {
   "cell_type": "code",
   "execution_count": 2,
   "id": "hawaiian-bottom",
   "metadata": {},
   "outputs": [],
   "source": [
    "model = load_model('models/t_model_1_4.h5', custom_objects={'KerasLayer':hub.KerasLayer})"
   ]
  },
  {
   "cell_type": "code",
   "execution_count": 4,
   "id": "liberal-species",
   "metadata": {},
   "outputs": [],
   "source": [
    "# open falcon cam website\n",
    "PATH = '/Applications/chromedriver'\n",
    "\n",
    "# headless\n",
    "from selenium.webdriver.chrome.options import Options\n",
    "options = Options()\n",
    "# options.headless = True\n",
    "options.add_argument(\"--window-size=1920x1080\")\n",
    "driver = webdriver.Chrome(PATH, options=options)\n",
    "\n",
    "# head\n",
    "# driver = webdriver.Chrome(PATH)\n",
    "\n",
    "driver.get('https://www.nottinghamshirewildlife.org/peregrine-cam')\n",
    "\n",
    "elements = driver.find_elements(By.TAG_NAME, 'button')\n",
    "\n",
    "eu_compliance = driver.find_element(By.ID, \n",
    "                                     'popup-buttons')\n",
    "\n",
    "eu_compliance.find_elements_by_css_selector(\"*\")[0].click()\n",
    "\n",
    "play_buttons = driver.find_elements(By.CLASS_NAME, \n",
    "                                     'vjs-big-play-button')\n",
    "\n",
    "play_buttons[1].click()\n",
    "        \n",
    "# locate video element for screenshotting\n",
    "\n",
    "video_boxes = driver.find_elements(By.TAG_NAME, 'video')\n",
    "\n",
    "video_box_1, video_box_2 = video_boxes\n",
    "        \n",
    "driver.execute_script(\"arguments[0].scrollIntoView();\", video_box_2)\n",
    "        \n",
    "schedule.clear()"
   ]
  },
  {
   "cell_type": "code",
   "execution_count": 4,
   "id": "velvet-graphic",
   "metadata": {},
   "outputs": [],
   "source": [
    "# # csv reset\n",
    "# import pandas as pd\n",
    "# df = pd.DataFrame(columns = ['status', 'datetime_GMT'])\n",
    "# df.to_csv('bird_sightings.csv', index = False)\n",
    "# df.head()"
   ]
  },
  {
   "cell_type": "code",
   "execution_count": 15,
   "id": "traditional-weekend",
   "metadata": {},
   "outputs": [
    {
     "data": {
      "text/plain": [
       "datetime.datetime(2021, 3, 23, 1, 0, 11, 787696, tzinfo=<StaticTzInfo 'GMT'>)"
      ]
     },
     "execution_count": 15,
     "metadata": {},
     "output_type": "execute_result"
    }
   ],
   "source": [
    "f'{datetime.datetime.now(GMT):%Y-%m-%d %H:%M:%S}'"
   ]
  },
  {
   "cell_type": "code",
   "execution_count": 5,
   "id": "expired-headquarters",
   "metadata": {},
   "outputs": [],
   "source": [
    "def get_screenshots():\n",
    "    global video_box_2\n",
    "    video_box_2.screenshot('live_images/image1.png')\n",
    "    time.sleep(1)\n",
    "    video_box_2.screenshot('live_images/image2.png')\n",
    "    time.sleep(1)\n",
    "    video_box_2.screenshot('live_images/image3.png')\n",
    "\n",
    "def is_there_a_bird():\n",
    "    \n",
    "    snapshot_time = f'{datetime.datetime.now(GMT):%Y-%m-%d %H:%M:%S}'\n",
    "    get_screenshots()\n",
    "    \n",
    "    predictions = []\n",
    "    for i in ['1', '2', '3']:\n",
    "        screenshot = image.load_img('live_images/image' + i + '.png', target_size = (224, 224))\n",
    "        screenshot_array = image.img_to_array(screenshot)\n",
    "        prep_img = tf.keras.applications.mobilenet_v2.preprocess_input(screenshot_array)\n",
    "        prediction = np.argmax(model.predict(prep_img[np.newaxis, ...]))\n",
    "        predictions.append(prediction)\n",
    "        if prediction == 1:\n",
    "            copyfile('live_images/image' + i + '.png',\n",
    "                     'per_imgs/saved_positives/' + \n",
    "                      str(snapshot_time).replace(' ', '').replace(':', '-').replace('.', '') + '-' + i + '.png')\n",
    "        elif prediction == 0:\n",
    "            copyfile('live_images/image' + i + '.png',\n",
    "                     'per_imgs/saved_negatives/' + \n",
    "                      str(snapshot_time).replace(' ', '').replace(':', '-').replace('.', '') + '-' + i + '.png')\n",
    "\n",
    "    if stats.mode(predictions)[0][0] == 1:\n",
    "        status = 'bird'\n",
    "        \n",
    "    elif stats.mode(predictions)[0][0] == 0:\n",
    "        status = 'no bird'\n",
    "        \n",
    "    with open('bird_sightings.csv', 'a', newline='') as csvfile:\n",
    "        status_writer = csv.writer(csvfile, delimiter=',',\n",
    "                                quotechar='|', quoting=csv.QUOTE_MINIMAL)\n",
    "        status_writer.writerow([status, snapshot_time])\n",
    "        \n",
    "    return status"
   ]
  },
  {
   "cell_type": "code",
   "execution_count": 6,
   "id": "adapted-period",
   "metadata": {},
   "outputs": [
    {
     "ename": "KeyboardInterrupt",
     "evalue": "",
     "output_type": "error",
     "traceback": [
      "\u001b[0;31m---------------------------------------------------------------------------\u001b[0m",
      "\u001b[0;31mKeyboardInterrupt\u001b[0m                         Traceback (most recent call last)",
      "\u001b[0;32m<ipython-input-6-b489269f8d30>\u001b[0m in \u001b[0;36m<module>\u001b[0;34m\u001b[0m\n\u001b[1;32m      3\u001b[0m \u001b[0;32mwhile\u001b[0m \u001b[0;32mTrue\u001b[0m\u001b[0;34m:\u001b[0m\u001b[0;34m\u001b[0m\u001b[0;34m\u001b[0m\u001b[0m\n\u001b[1;32m      4\u001b[0m     \u001b[0mschedule\u001b[0m\u001b[0;34m.\u001b[0m\u001b[0mrun_pending\u001b[0m\u001b[0;34m(\u001b[0m\u001b[0;34m)\u001b[0m\u001b[0;34m\u001b[0m\u001b[0;34m\u001b[0m\u001b[0m\n\u001b[0;32m----> 5\u001b[0;31m     \u001b[0mtime\u001b[0m\u001b[0;34m.\u001b[0m\u001b[0msleep\u001b[0m\u001b[0;34m(\u001b[0m\u001b[0;36m1\u001b[0m\u001b[0;34m)\u001b[0m\u001b[0;34m\u001b[0m\u001b[0;34m\u001b[0m\u001b[0m\n\u001b[0m",
      "\u001b[0;31mKeyboardInterrupt\u001b[0m: "
     ]
    }
   ],
   "source": [
    "schedule.every(1).minutes.do(is_there_a_bird)\n",
    "\n",
    "while True:\n",
    "    schedule.run_pending()\n",
    "    time.sleep(1)"
   ]
  },
  {
   "cell_type": "code",
   "execution_count": null,
   "id": "dried-testament",
   "metadata": {},
   "outputs": [],
   "source": []
  }
 ],
 "metadata": {
  "kernelspec": {
   "display_name": "Python 3",
   "language": "python",
   "name": "python3"
  },
  "language_info": {
   "codemirror_mode": {
    "name": "ipython",
    "version": 3
   },
   "file_extension": ".py",
   "mimetype": "text/x-python",
   "name": "python",
   "nbconvert_exporter": "python",
   "pygments_lexer": "ipython3",
   "version": "3.8.5"
  }
 },
 "nbformat": 4,
 "nbformat_minor": 5
}
